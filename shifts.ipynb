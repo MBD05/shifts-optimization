{
 "cells": [
  {
   "cell_type": "markdown",
   "id": "e36e1cc7",
   "metadata": {},
   "source": [
    "## Preparaciones previas"
   ]
  },
  {
   "cell_type": "code",
   "execution_count": 292,
   "id": "e4767825",
   "metadata": {},
   "outputs": [],
   "source": [
    "from IPython.display import display, Markdown, Latex\n",
    "from pulp import *\n",
    "import numpy as np\n",
    "import pandas as pd\n",
    "import io"
   ]
  },
  {
   "cell_type": "code",
   "execution_count": 293,
   "id": "4f254ef5",
   "metadata": {},
   "outputs": [],
   "source": [
    "sub = str.maketrans(\"0123456789\", \"₀₁₂₃₄₅₆₇₈₉\")"
   ]
  },
  {
   "cell_type": "markdown",
   "id": "e6e5ced5",
   "metadata": {},
   "source": [
    "## Versión 1"
   ]
  },
  {
   "cell_type": "code",
   "execution_count": 294,
   "id": "5ed759ce",
   "metadata": {},
   "outputs": [],
   "source": [
    "n_of_workers = 8\n",
    "\n",
    "n_of_shifts = 4\n",
    "\n",
    "n_of_months = 1\n",
    "n_of_weeks = 4 * n_of_months"
   ]
  },
  {
   "cell_type": "markdown",
   "id": "87b6ca42",
   "metadata": {},
   "source": [
    "### Definición del problema"
   ]
  },
  {
   "cell_type": "code",
   "execution_count": 295,
   "id": "b999d7ca",
   "metadata": {},
   "outputs": [],
   "source": [
    "problem = LpProblem(\"max_problem\", LpMaximize)\n",
    "\n",
    "deltas = np.array(\n",
    "    [[[LpVariable(\"\\u03B4\" + (str(i) + \",\" + str(j) + \",\" + str(k)).translate(sub), cat=\"Binary\") \n",
    "     for k in range(n_of_weeks)]\n",
    "     for j in range(n_of_shifts)]\n",
    "     for i in range(n_of_workers)])"
   ]
  },
  {
   "cell_type": "code",
   "execution_count": 296,
   "id": "c70910a6",
   "metadata": {},
   "outputs": [],
   "source": [
    "W = np.array([[1, 0.5, 0.25, 0],\n",
    "              [1, 0.25, 0.5, 0],\n",
    "              [1, 0.5, 0.25, 0],\n",
    "              [1, 0.5, 0.25, 0],\n",
    "              [0.5, 0.25, 1, 0],\n",
    "              [0.25, 0.5, 1, 0],\n",
    "              [0.5, 0.25, 1, 0],\n",
    "              [0, 0, 0, 0]])"
   ]
  },
  {
   "cell_type": "code",
   "execution_count": 297,
   "id": "2998f9c6",
   "metadata": {},
   "outputs": [],
   "source": [
    "deltas_weight = np.array(\n",
    "    [[[deltas[i,j,k] * W[i,j] \n",
    "     for k in range(n_of_weeks)]\n",
    "     for j in range(n_of_shifts)]\n",
    "     for i in range(n_of_workers)])\n",
    "\n",
    "problem += lpSum(deltas_weight)"
   ]
  },
  {
   "cell_type": "markdown",
   "id": "573aa2a8",
   "metadata": {},
   "source": [
    "### Restricciones"
   ]
  },
  {
   "cell_type": "markdown",
   "id": "5d129afb",
   "metadata": {},
   "source": [
    "Restricción 1: al menos dos trabajadores por turno cada semana"
   ]
  },
  {
   "cell_type": "code",
   "execution_count": 298,
   "id": "48f6d00f",
   "metadata": {},
   "outputs": [],
   "source": [
    "for j in range(n_of_shifts):\n",
    "    for k in range(n_of_weeks):\n",
    "        problem += lpSum(deltas[:,j,k]) == 2"
   ]
  },
  {
   "cell_type": "markdown",
   "id": "bc3bc878",
   "metadata": {},
   "source": [
    "Restricción 2: un trabajador no puede hacer dos turnos en una misma semana"
   ]
  },
  {
   "cell_type": "code",
   "execution_count": 299,
   "id": "8a659845",
   "metadata": {},
   "outputs": [],
   "source": [
    "for i in range(n_of_workers):\n",
    "    for k in range(n_of_weeks):\n",
    "        problem += lpSum(deltas[i,:,k]) == 1"
   ]
  },
  {
   "cell_type": "markdown",
   "id": "1a2bbb47",
   "metadata": {},
   "source": [
    "Restricción 3: un trabajador en concreto, denotado como $t$, solo puede hacer los turnos contenidos en el conjunto $R$"
   ]
  },
  {
   "cell_type": "code",
   "execution_count": 300,
   "id": "a0e70fd8",
   "metadata": {},
   "outputs": [],
   "source": [
    "def rest3(problem, t, R):\n",
    "    for k in range(n_of_weeks):\n",
    "        for j in R:\n",
    "            problem += deltas[t,j,k] <= 1\n",
    "        for j in {i for i in range(n_of_shifts)} - R:\n",
    "            problem += deltas[t,j,k] <= 0\n",
    "\n",
    "rest3(problem, 7, {2,3})"
   ]
  },
  {
   "cell_type": "markdown",
   "id": "42a04ef2",
   "metadata": {},
   "source": [
    "Restricción 4: el tercer turno lo tiene que hacer cada trabajador una vez al mes"
   ]
  },
  {
   "cell_type": "code",
   "execution_count": 301,
   "id": "a7e31c7e",
   "metadata": {},
   "outputs": [],
   "source": [
    "for i in range(n_of_workers):\n",
    "    problem += lpSum(deltas[i,3,:]) == int(n_of_weeks/4)"
   ]
  },
  {
   "cell_type": "markdown",
   "id": "f72b3abb",
   "metadata": {},
   "source": [
    "### Solución"
   ]
  },
  {
   "cell_type": "code",
   "execution_count": 302,
   "id": "d1977fbf",
   "metadata": {},
   "outputs": [
    {
     "name": "stdout",
     "output_type": "stream",
     "text": [
      "\n",
      "PROBLEM STATUS\n",
      "Optimal\n"
     ]
    }
   ],
   "source": [
    "problem.solve(PULP_CBC_CMD(msg=False))\n",
    "print(\"\\nPROBLEM STATUS\\n\" + str(LpStatus[problem.status]))"
   ]
  },
  {
   "cell_type": "code",
   "execution_count": 303,
   "id": "36776467",
   "metadata": {},
   "outputs": [
    {
     "data": {
      "text/markdown": [
       "| Trabajador | Semana 0 | Semana 1 | Semana 2 | Semana 3 |\n",
       "|--|--|--|--|--|\n",
       "| Trabajador 0 | Turno de fin de semana | Turno de mañana | Turno de mediodía | Turno de mañana |\n",
       "| Trabajador 1 | Turno de mañana | Turno de fin de semana | Turno de mañana | Turno de mañana |\n",
       "| Trabajador 2 | Turno de fin de semana | Turno de mañana | Turno de mañana | Turno de mediodía |\n",
       "| Trabajador 3 | Turno de mañana | Turno de mediodía | Turno de mediodía | Turno de fin de semana |\n",
       "| Trabajador 4 | Turno de tarde | Turno de fin de semana | Turno de tarde | Turno de tarde |\n",
       "| Trabajador 5 | Turno de mediodía | Turno de mediodía | Turno de fin de semana | Turno de mediodía |\n",
       "| Trabajador 6 | Turno de mediodía | Turno de tarde | Turno de fin de semana | Turno de tarde |\n",
       "| Trabajador 7 | Turno de tarde | Turno de tarde | Turno de tarde | Turno de fin de semana |\n"
      ],
      "text/plain": [
       "<IPython.core.display.Markdown object>"
      ]
     },
     "metadata": {},
     "output_type": "display_data"
    }
   ],
   "source": [
    "header = \"| Trabajador |\"\n",
    "separator_elem = \"--|\"\n",
    "separator = \"|\" + separator_elem\n",
    "for k in range(n_of_weeks):\n",
    "    header += \" Semana \" + str(k) + \" |\"\n",
    "    separator += separator_elem\n",
    "\n",
    "shift_list = [\"Turno de mañana\", \"Turno de mediodía\", \"Turno de tarde\", \"Turno de fin de semana\"]\n",
    "table = \"\"\n",
    "for i in range(n_of_workers):\n",
    "    table += \"| Trabajador \" + str(i) + \" |\"\n",
    "    for k in range(n_of_weeks):\n",
    "        this_deltas = [deltas[i,j,k].value() for j in range(n_of_shifts)]\n",
    "        shift = this_deltas.index(1)\n",
    "        table += \" \" + shift_list[shift] + \" |\"\n",
    "    table += \"\\n\"\n",
    "\n",
    "table = header + \"\\n\" + separator + \"\\n\" + table\n",
    "display(Markdown(table))"
   ]
  },
  {
   "cell_type": "code",
   "execution_count": null,
   "id": "649f6139",
   "metadata": {},
   "outputs": [
    {
     "name": "stdout",
     "output_type": "stream",
     "text": [
      "Trabajador,Semana 0,Semana 1,Semana 2,Semana 3\n",
      "Trabajador 0,Turno de fin de semana,Turno de mañana,Turno de mediodía,Turno de mañana\n",
      "Trabajador 1,Turno de mañana,Turno de fin de semana,Turno de mañana,Turno de mañana\n",
      "Trabajador 2,Turno de fin de semana,Turno de mañana,Turno de mañana,Turno de mediodía\n",
      "Trabajador 3,Turno de mañana,Turno de mediodía,Turno de mediodía,Turno de fin de semana\n",
      "Trabajador 4,Turno de tarde,Turno de fin de semana,Turno de tarde,Turno de tarde\n",
      "Trabajador 5,Turno de mediodía,Turno de mediodía,Turno de fin de semana,Turno de mediodía\n",
      "Trabajador 6,Turno de mediodía,Turno de tarde,Turno de fin de semana,Turno de tarde\n",
      "Trabajador 7,Turno de tarde,Turno de tarde,Turno de tarde,Turno de fin de semana\n",
      "\n"
     ]
    }
   ],
   "source": [
    "header = \"Trabajador\"\n",
    "for k in range(n_of_weeks):\n",
    "    header += \",Semana \" + str(k)\n",
    "    separator += separator_elem\n",
    "\n",
    "shift_list = [\"Turno de mañana\", \"Turno de mediodía\", \"Turno de tarde\", \"Turno de fin de semana\"]\n",
    "table = \"\"\n",
    "for i in range(n_of_workers):\n",
    "    table += \"Trabajador \" + str(i)\n",
    "    for k in range(n_of_weeks):\n",
    "        this_deltas = [deltas[i,j,k].value() for j in range(n_of_shifts)]\n",
    "        shift = this_deltas.index(1)\n",
    "        table += \",\" + shift_list[shift]\n",
    "    table += \"\\n\"\n",
    "\n",
    "table = header + \"\\n\" + table\n",
    "table_df = pd.read_csv(io.StringIO(table), sep=\",\")\n",
    "table_df.to_excel(\"turnos.xlsx\")"
   ]
  }
 ],
 "metadata": {
  "kernelspec": {
   "display_name": "Python 3",
   "language": "python",
   "name": "python3"
  },
  "language_info": {
   "codemirror_mode": {
    "name": "ipython",
    "version": 3
   },
   "file_extension": ".py",
   "mimetype": "text/x-python",
   "name": "python",
   "nbconvert_exporter": "python",
   "pygments_lexer": "ipython3",
   "version": "3.12.3"
  }
 },
 "nbformat": 4,
 "nbformat_minor": 5
}
