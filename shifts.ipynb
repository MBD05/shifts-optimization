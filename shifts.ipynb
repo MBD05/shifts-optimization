{
 "cells": [
  {
   "cell_type": "markdown",
   "id": "e36e1cc7",
   "metadata": {},
   "source": [
    "## Preparaciones previas"
   ]
  },
  {
   "cell_type": "code",
   "execution_count": 163,
   "id": "e4767825",
   "metadata": {},
   "outputs": [],
   "source": [
    "from IPython.display import display, Markdown, Latex\n",
    "from pulp import *\n",
    "import numpy as np\n",
    "import pandas as pd\n",
    "import io"
   ]
  },
  {
   "cell_type": "code",
   "execution_count": 164,
   "id": "4f254ef5",
   "metadata": {},
   "outputs": [],
   "source": [
    "sub = str.maketrans(\"0123456789\", \"₀₁₂₃₄₅₆₇₈₉\")"
   ]
  },
  {
   "cell_type": "markdown",
   "id": "e6e5ced5",
   "metadata": {},
   "source": [
    "## Definición del problema"
   ]
  },
  {
   "cell_type": "code",
   "execution_count": 165,
   "id": "5ed759ce",
   "metadata": {},
   "outputs": [],
   "source": [
    "n_of_workers = 8\n",
    "\n",
    "n_of_shifts = 4\n",
    "\n",
    "n_of_months = 2\n",
    "n_of_weeks = 4 * n_of_months\n",
    "version = 2"
   ]
  },
  {
   "cell_type": "code",
   "execution_count": 166,
   "id": "94c54e52",
   "metadata": {},
   "outputs": [],
   "source": [
    "W = np.array([[1, 0.5, 0.25, 0],\n",
    "              [1, 0.25, 0.5, 0],\n",
    "              [1, 0.5, 0.25, 0],\n",
    "              [1, 0.5, 0.25, 0],\n",
    "              [0.5, 0.25, 1, 0],\n",
    "              [0.25, 0.5, 1, 0],\n",
    "              [0.5, 0.25, 1, 0],\n",
    "              [0, 0, 0, 0]])\n",
    "\n",
    "problem = LpProblem(\"max_problem\", LpMaximize)\n",
    "\n",
    "deltas = np.array(\n",
    "    [[[LpVariable(\"\\u03B4\" + (str(i) + \",\" + str(j) + \",\" + str(k)).translate(sub), cat=\"Binary\") \n",
    "     for k in range(n_of_weeks)]\n",
    "     for j in range(n_of_shifts)]\n",
    "     for i in range(n_of_workers)])\n",
    "\n",
    "deltas_weight = np.array(\n",
    "    [[[deltas[i,j,k] * W[i,j] \n",
    "     for k in range(n_of_weeks)]\n",
    "     for j in range(n_of_shifts)]\n",
    "     for i in range(n_of_workers)])"
   ]
  },
  {
   "cell_type": "markdown",
   "id": "87b6ca42",
   "metadata": {},
   "source": [
    "### Función objetivo: versión 1"
   ]
  },
  {
   "cell_type": "code",
   "execution_count": 167,
   "id": "2998f9c6",
   "metadata": {},
   "outputs": [],
   "source": [
    "#problem += lpSum(deltas_weight)"
   ]
  },
  {
   "cell_type": "markdown",
   "id": "95493d17",
   "metadata": {},
   "source": [
    "### Función objetivo: versión 2"
   ]
  },
  {
   "cell_type": "code",
   "execution_count": 168,
   "id": "e56fc7d2",
   "metadata": {},
   "outputs": [],
   "source": [
    "H = np.array(\n",
    "    [[LpVariable(\"H\" + (str(i) + \",\" + str(j)).translate(sub)) \n",
    "                    for j in range(n_of_workers)] \n",
    "                    for i in range(n_of_workers)])\n",
    "h = np.array(\n",
    "    [[LpVariable(\"h\" + (str(i) + \",\" + str(j)).translate(sub)) \n",
    "                    for j in range(n_of_workers)] \n",
    "                    for i in range(n_of_workers)])\n",
    "\n",
    "happiness = np.sum(deltas_weight, axis=(2,1))/n_of_weeks\n",
    "happiness_diff = np.array([[happiness[i] - happiness[j] for j in range(n_of_workers)] for i in range(n_of_workers)])\n",
    "\n",
    "for i in range(n_of_workers):\n",
    "    for j in range(n_of_workers):\n",
    "        problem += H[i,j] == happiness_diff[i,j]\n",
    "        problem += H[i,j] <= h[i,j]\n",
    "        problem += -H[i,j] <= h[i,j]\n",
    "        problem += 0 <= h[i,j]\n",
    "\n",
    "problem += lpSum(deltas_weight) - lpSum(h)"
   ]
  },
  {
   "cell_type": "markdown",
   "id": "573aa2a8",
   "metadata": {},
   "source": [
    "### Restricciones"
   ]
  },
  {
   "cell_type": "markdown",
   "id": "5d129afb",
   "metadata": {},
   "source": [
    "Restricción 1: al menos dos trabajadores por turno cada semana"
   ]
  },
  {
   "cell_type": "code",
   "execution_count": 169,
   "id": "48f6d00f",
   "metadata": {},
   "outputs": [],
   "source": [
    "for j in range(n_of_shifts):\n",
    "    for k in range(n_of_weeks):\n",
    "        problem += lpSum(deltas[:,j,k]) == 2"
   ]
  },
  {
   "cell_type": "markdown",
   "id": "bc3bc878",
   "metadata": {},
   "source": [
    "Restricción 2: un trabajador no puede hacer dos turnos en una misma semana"
   ]
  },
  {
   "cell_type": "code",
   "execution_count": 170,
   "id": "8a659845",
   "metadata": {},
   "outputs": [],
   "source": [
    "for i in range(n_of_workers):\n",
    "    for k in range(n_of_weeks):\n",
    "        problem += lpSum(deltas[i,:,k]) == 1"
   ]
  },
  {
   "cell_type": "markdown",
   "id": "1a2bbb47",
   "metadata": {},
   "source": [
    "Restricción 3: un trabajador en concreto, denotado como $t$, solo puede hacer los turnos contenidos en el conjunto $R$"
   ]
  },
  {
   "cell_type": "code",
   "execution_count": 171,
   "id": "a0e70fd8",
   "metadata": {},
   "outputs": [],
   "source": [
    "def rest3(problem, t, R):\n",
    "    for k in range(n_of_weeks):\n",
    "        for j in R:\n",
    "            problem += deltas[t,j,k] <= 1\n",
    "        for j in {i for i in range(n_of_shifts)} - R:\n",
    "            problem += deltas[t,j,k] <= 0\n",
    "\n",
    "rest3(problem, 7, {2,3})"
   ]
  },
  {
   "cell_type": "markdown",
   "id": "42a04ef2",
   "metadata": {},
   "source": [
    "Restricción 4: el tercer turno lo tiene que hacer cada trabajador una vez al mes"
   ]
  },
  {
   "cell_type": "code",
   "execution_count": 172,
   "id": "a7e31c7e",
   "metadata": {},
   "outputs": [],
   "source": [
    "for i in range(n_of_workers):\n",
    "    problem += lpSum(deltas[i,3,:]) == int(n_of_weeks/4)"
   ]
  },
  {
   "cell_type": "markdown",
   "id": "833228e4",
   "metadata": {},
   "source": [
    "Restricción 5: un trabajador solo puede hacer el tercer turno con tres semanas de  $$\\begin{gather*}\\delta_{i,3,k}\\le 1-\\delta_{i,3,k-q}\\space\\land\\space \\delta_{i,3,k-4}\\le\\delta_{i,3,k}\\\\\\space\\forall\\space i=0,\\dots,n\\space\\forall\\space k=4,\\dots,p\\space\\forall\\space q=1,2,3\\end{gather*}$$"
   ]
  },
  {
   "cell_type": "code",
   "execution_count": 173,
   "id": "31e847cf",
   "metadata": {},
   "outputs": [],
   "source": [
    "for i in range(n_of_workers):\n",
    "    if k < 4:\n",
    "        break\n",
    "    for k in range(4,n_of_weeks):\n",
    "        problem += deltas[i,3,k-4] <= deltas[i,3,k]\n",
    "        problem += deltas[i,3,k] <= 1 - deltas[i,3,k-3]\n",
    "        problem += deltas[i,3,k] <= 1 - deltas[i,3,k-2]\n",
    "        problem += deltas[i,3,k] <= 1 - deltas[i,3,k-1]"
   ]
  },
  {
   "cell_type": "markdown",
   "id": "f72b3abb",
   "metadata": {},
   "source": [
    "## Solución"
   ]
  },
  {
   "cell_type": "code",
   "execution_count": 174,
   "id": "d1977fbf",
   "metadata": {},
   "outputs": [
    {
     "name": "stdout",
     "output_type": "stream",
     "text": [
      "\n",
      "PROBLEM STATUS\n",
      "Optimal\n"
     ]
    }
   ],
   "source": [
    "problem.solve(PULP_CBC_CMD(msg=False))\n",
    "print(\"\\nPROBLEM STATUS\\n\" + str(LpStatus[problem.status]))"
   ]
  },
  {
   "cell_type": "code",
   "execution_count": 175,
   "id": "36776467",
   "metadata": {},
   "outputs": [
    {
     "data": {
      "text/markdown": [
       "| Trabajador | Semana 0 | Semana 1 | Semana 2 | Semana 3 | Semana 4 | Semana 5 | Semana 6 | Semana 7 |\n",
       "|--|--|--|--|--|--|--|--|--|\n",
       "| Trabajador 0 | Turno de mediodía | Turno de fin de semana | Turno de mediodía | Turno de mañana | Turno de mediodía | Turno de fin de semana | Turno de mañana | Turno de mañana |\n",
       "| Trabajador 1 | Turno de fin de semana | Turno de mañana | Turno de mañana | Turno de mediodía | Turno de fin de semana | Turno de mañana | Turno de mañana | Turno de mediodía |\n",
       "| Trabajador 2 | Turno de mañana | Turno de mañana | Turno de mediodía | Turno de fin de semana | Turno de mañana | Turno de mediodía | Turno de mediodía | Turno de fin de semana |\n",
       "| Trabajador 3 | Turno de fin de semana | Turno de mediodía | Turno de mañana | Turno de mediodía | Turno de fin de semana | Turno de mañana | Turno de mediodía | Turno de mañana |\n",
       "| Trabajador 4 | Turno de mañana | Turno de fin de semana | Turno de tarde | Turno de mañana | Turno de mañana | Turno de fin de semana | Turno de tarde | Turno de tarde |\n",
       "| Trabajador 5 | Turno de mediodía | Turno de mediodía | Turno de fin de semana | Turno de tarde | Turno de tarde | Turno de tarde | Turno de fin de semana | Turno de mediodía |\n",
       "| Trabajador 6 | Turno de tarde | Turno de tarde | Turno de tarde | Turno de fin de semana | Turno de mediodía | Turno de mediodía | Turno de tarde | Turno de fin de semana |\n",
       "| Trabajador 7 | Turno de tarde | Turno de tarde | Turno de fin de semana | Turno de tarde | Turno de tarde | Turno de tarde | Turno de fin de semana | Turno de tarde |\n"
      ],
      "text/plain": [
       "<IPython.core.display.Markdown object>"
      ]
     },
     "metadata": {},
     "output_type": "display_data"
    }
   ],
   "source": [
    "header = \"| Trabajador |\"\n",
    "separator_elem = \"--|\"\n",
    "separator = \"|\" + separator_elem\n",
    "for k in range(n_of_weeks):\n",
    "    header += \" Semana \" + str(k) + \" |\"\n",
    "    separator += separator_elem\n",
    "\n",
    "shift_list = [\"Turno de mañana\", \"Turno de mediodía\", \"Turno de tarde\", \"Turno de fin de semana\"]\n",
    "table = \"\"\n",
    "for i in range(n_of_workers):\n",
    "    table += \"| Trabajador \" + str(i) + \" |\"\n",
    "    for k in range(n_of_weeks):\n",
    "        this_deltas = [deltas[i,j,k].value() for j in range(n_of_shifts)]\n",
    "        shift = this_deltas.index(1)\n",
    "        table += \" \" + shift_list[shift] + \" |\"\n",
    "    table += \"\\n\"\n",
    "\n",
    "table = header + \"\\n\" + separator + \"\\n\" + table\n",
    "display(Markdown(table))"
   ]
  },
  {
   "cell_type": "code",
   "execution_count": 176,
   "id": "649f6139",
   "metadata": {},
   "outputs": [],
   "source": [
    "header = \"Trabajador\"\n",
    "for k in range(n_of_weeks):\n",
    "    header += \",Semana \" + str(k)\n",
    "    separator += separator_elem\n",
    "\n",
    "shift_list = [\"Turno de mañana\", \"Turno de mediodía\", \"Turno de tarde\", \"Turno de fin de semana\"]\n",
    "table = \"\"\n",
    "for i in range(n_of_workers):\n",
    "    table += \"Trabajador \" + str(i)\n",
    "    for k in range(n_of_weeks):\n",
    "        this_deltas = [deltas[i,j,k].value() for j in range(n_of_shifts)]\n",
    "        shift = this_deltas.index(1)\n",
    "        table += \",\" + shift_list[shift]\n",
    "    table += \"\\n\"\n",
    "\n",
    "table = header + \"\\n\" + table\n",
    "table_df = pd.read_csv(io.StringIO(table), sep=\",\")\n",
    "table_df.to_excel(\"turnos.xlsx\")"
   ]
  }
 ],
 "metadata": {
  "kernelspec": {
   "display_name": "Python 3",
   "language": "python",
   "name": "python3"
  },
  "language_info": {
   "codemirror_mode": {
    "name": "ipython",
    "version": 3
   },
   "file_extension": ".py",
   "mimetype": "text/x-python",
   "name": "python",
   "nbconvert_exporter": "python",
   "pygments_lexer": "ipython3",
   "version": "3.12.3"
  }
 },
 "nbformat": 4,
 "nbformat_minor": 5
}
